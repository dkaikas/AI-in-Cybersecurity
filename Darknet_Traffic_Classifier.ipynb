{
  "cells": [
    {
      "cell_type": "markdown",
      "metadata": {
        "id": "view-in-github",
        "colab_type": "text"
      },
      "source": [
        "<a href=\"https://colab.research.google.com/github/dkaikas/AI-in-Cybersecurity/blob/main/Darknet_Traffic_Classifier.ipynb\" target=\"_parent\"><img src=\"https://colab.research.google.com/assets/colab-badge.svg\" alt=\"Open In Colab\"/></a>"
      ]
    },
    {
      "cell_type": "markdown",
      "id": "21ba0eba",
      "metadata": {
        "id": "21ba0eba"
      },
      "source": [
        "# Darknet Traffic Classification using Machine Learning\n",
        "Ανίχνευση και ταξινόμηση της κυκλοφορίας Tor από μη-Tor σε δίκτυα υπολογιστών.\n",
        "Αξιοποιούμε τεχνικές μηχανικής μάθησης για να υλοποιήσουμε ένα σύστημα εντοπισμού πιθανής κακόβουλης κυκλοφορίας."
      ]
    },
    {
      "cell_type": "code",
      "execution_count": null,
      "id": "b0f66101",
      "metadata": {
        "id": "b0f66101"
      },
      "outputs": [],
      "source": [
        "import pandas as pd\n",
        "import numpy as np\n",
        "import matplotlib.pyplot as plt\n",
        "import seaborn as sns\n",
        "\n",
        "from sklearn.model_selection import train_test_split\n",
        "from sklearn.preprocessing import LabelEncoder, StandardScaler\n",
        "from sklearn.ensemble import RandomForestClassifier\n",
        "from sklearn.metrics import classification_report, confusion_matrix, roc_auc_score\n",
        "from xgboost import XGBClassifier\n",
        "from tensorflow.keras.models import Sequential\n",
        "from tensorflow.keras.layers import Dense, Input\n",
        "from tensorflow.keras.utils import to_categorical\n"
      ]
    },
    {
      "cell_type": "markdown",
      "id": "fbfedf69",
      "metadata": {
        "id": "fbfedf69"
      },
      "source": [
        "## Φόρτωση και Προεπισκόπηση Δεδομένων"
      ]
    },
    {
      "cell_type": "code",
      "execution_count": null,
      "id": "944cccb5",
      "metadata": {
        "colab": {
          "base_uri": "https://localhost:8080/",
          "height": 394
        },
        "id": "944cccb5",
        "outputId": "0460efcf-6abd-4718-98a8-354b7b9c178a"
      },
      "outputs": [
        {
          "output_type": "stream",
          "name": "stderr",
          "text": [
            "<ipython-input-14-051ca000cfed>:1: DtypeWarning: Columns (18) have mixed types. Specify dtype option on import or set low_memory=False.\n",
            "  df = pd.read_csv('https://raw.githubusercontent.com/kdemertzis/EKPA/main/Data/DarkNet.csv')\n"
          ]
        },
        {
          "output_type": "execute_result",
          "data": {
            "text/plain": [
              "          Src_IP  Src_Port          Dst_IP  Dst_Port  Protocol  Flow_Duration  \\\n",
              "0  10.152.152.11     57158   216.58.220.99       443         6            229   \n",
              "1  10.152.152.11     57159   216.58.220.99       443         6            407   \n",
              "2  10.152.152.11     57160   216.58.220.99       443         6            431   \n",
              "3  10.152.152.11     49134  74.125.136.120       443         6            359   \n",
              "4  10.152.152.11     34697  173.194.65.127     19305         6       10778451   \n",
              "\n",
              "   Total_Fwd_Packet  Total_Bwd_packets  Total_Length_of_Fwd_Packet  \\\n",
              "0                 1                  1                           0   \n",
              "1                 1                  1                           0   \n",
              "2                 1                  1                           0   \n",
              "3                 1                  1                           0   \n",
              "4               591                400                       64530   \n",
              "\n",
              "   Total_Length_of_Bwd_Packet  ...  Active_Mean  Active_Std  Active_Max  \\\n",
              "0                           0  ...            0           0           0   \n",
              "1                           0  ...            0           0           0   \n",
              "2                           0  ...            0           0           0   \n",
              "3                           0  ...            0           0           0   \n",
              "4                        6659  ...            0           0           0   \n",
              "\n",
              "   Active_Min         Idle_Mean     Idle_Std          Idle_Max  \\\n",
              "0           0                 0        0.000                 0   \n",
              "1           0                 0        0.000                 0   \n",
              "2           0                 0        0.000                 0   \n",
              "3           0                 0        0.000                 0   \n",
              "4           0  1437760000000000  3117718.131  1437760000000000   \n",
              "\n",
              "           Idle_Min  Label-1          Label-2  \n",
              "0                 0  Non-Tor  AUDIO-STREAMING  \n",
              "1                 0  Non-Tor  AUDIO-STREAMING  \n",
              "2                 0  Non-Tor  AUDIO-STREAMING  \n",
              "3                 0  Non-Tor  AUDIO-STREAMING  \n",
              "4  1437760000000000  Non-Tor  AUDIO-STREAMING  \n",
              "\n",
              "[5 rows x 83 columns]"
            ],
            "text/html": [
              "\n",
              "  <div id=\"df-caafbae8-d871-4fb4-bfeb-5ac0d122f757\" class=\"colab-df-container\">\n",
              "    <div>\n",
              "<style scoped>\n",
              "    .dataframe tbody tr th:only-of-type {\n",
              "        vertical-align: middle;\n",
              "    }\n",
              "\n",
              "    .dataframe tbody tr th {\n",
              "        vertical-align: top;\n",
              "    }\n",
              "\n",
              "    .dataframe thead th {\n",
              "        text-align: right;\n",
              "    }\n",
              "</style>\n",
              "<table border=\"1\" class=\"dataframe\">\n",
              "  <thead>\n",
              "    <tr style=\"text-align: right;\">\n",
              "      <th></th>\n",
              "      <th>Src_IP</th>\n",
              "      <th>Src_Port</th>\n",
              "      <th>Dst_IP</th>\n",
              "      <th>Dst_Port</th>\n",
              "      <th>Protocol</th>\n",
              "      <th>Flow_Duration</th>\n",
              "      <th>Total_Fwd_Packet</th>\n",
              "      <th>Total_Bwd_packets</th>\n",
              "      <th>Total_Length_of_Fwd_Packet</th>\n",
              "      <th>Total_Length_of_Bwd_Packet</th>\n",
              "      <th>...</th>\n",
              "      <th>Active_Mean</th>\n",
              "      <th>Active_Std</th>\n",
              "      <th>Active_Max</th>\n",
              "      <th>Active_Min</th>\n",
              "      <th>Idle_Mean</th>\n",
              "      <th>Idle_Std</th>\n",
              "      <th>Idle_Max</th>\n",
              "      <th>Idle_Min</th>\n",
              "      <th>Label-1</th>\n",
              "      <th>Label-2</th>\n",
              "    </tr>\n",
              "  </thead>\n",
              "  <tbody>\n",
              "    <tr>\n",
              "      <th>0</th>\n",
              "      <td>10.152.152.11</td>\n",
              "      <td>57158</td>\n",
              "      <td>216.58.220.99</td>\n",
              "      <td>443</td>\n",
              "      <td>6</td>\n",
              "      <td>229</td>\n",
              "      <td>1</td>\n",
              "      <td>1</td>\n",
              "      <td>0</td>\n",
              "      <td>0</td>\n",
              "      <td>...</td>\n",
              "      <td>0</td>\n",
              "      <td>0</td>\n",
              "      <td>0</td>\n",
              "      <td>0</td>\n",
              "      <td>0</td>\n",
              "      <td>0.000</td>\n",
              "      <td>0</td>\n",
              "      <td>0</td>\n",
              "      <td>Non-Tor</td>\n",
              "      <td>AUDIO-STREAMING</td>\n",
              "    </tr>\n",
              "    <tr>\n",
              "      <th>1</th>\n",
              "      <td>10.152.152.11</td>\n",
              "      <td>57159</td>\n",
              "      <td>216.58.220.99</td>\n",
              "      <td>443</td>\n",
              "      <td>6</td>\n",
              "      <td>407</td>\n",
              "      <td>1</td>\n",
              "      <td>1</td>\n",
              "      <td>0</td>\n",
              "      <td>0</td>\n",
              "      <td>...</td>\n",
              "      <td>0</td>\n",
              "      <td>0</td>\n",
              "      <td>0</td>\n",
              "      <td>0</td>\n",
              "      <td>0</td>\n",
              "      <td>0.000</td>\n",
              "      <td>0</td>\n",
              "      <td>0</td>\n",
              "      <td>Non-Tor</td>\n",
              "      <td>AUDIO-STREAMING</td>\n",
              "    </tr>\n",
              "    <tr>\n",
              "      <th>2</th>\n",
              "      <td>10.152.152.11</td>\n",
              "      <td>57160</td>\n",
              "      <td>216.58.220.99</td>\n",
              "      <td>443</td>\n",
              "      <td>6</td>\n",
              "      <td>431</td>\n",
              "      <td>1</td>\n",
              "      <td>1</td>\n",
              "      <td>0</td>\n",
              "      <td>0</td>\n",
              "      <td>...</td>\n",
              "      <td>0</td>\n",
              "      <td>0</td>\n",
              "      <td>0</td>\n",
              "      <td>0</td>\n",
              "      <td>0</td>\n",
              "      <td>0.000</td>\n",
              "      <td>0</td>\n",
              "      <td>0</td>\n",
              "      <td>Non-Tor</td>\n",
              "      <td>AUDIO-STREAMING</td>\n",
              "    </tr>\n",
              "    <tr>\n",
              "      <th>3</th>\n",
              "      <td>10.152.152.11</td>\n",
              "      <td>49134</td>\n",
              "      <td>74.125.136.120</td>\n",
              "      <td>443</td>\n",
              "      <td>6</td>\n",
              "      <td>359</td>\n",
              "      <td>1</td>\n",
              "      <td>1</td>\n",
              "      <td>0</td>\n",
              "      <td>0</td>\n",
              "      <td>...</td>\n",
              "      <td>0</td>\n",
              "      <td>0</td>\n",
              "      <td>0</td>\n",
              "      <td>0</td>\n",
              "      <td>0</td>\n",
              "      <td>0.000</td>\n",
              "      <td>0</td>\n",
              "      <td>0</td>\n",
              "      <td>Non-Tor</td>\n",
              "      <td>AUDIO-STREAMING</td>\n",
              "    </tr>\n",
              "    <tr>\n",
              "      <th>4</th>\n",
              "      <td>10.152.152.11</td>\n",
              "      <td>34697</td>\n",
              "      <td>173.194.65.127</td>\n",
              "      <td>19305</td>\n",
              "      <td>6</td>\n",
              "      <td>10778451</td>\n",
              "      <td>591</td>\n",
              "      <td>400</td>\n",
              "      <td>64530</td>\n",
              "      <td>6659</td>\n",
              "      <td>...</td>\n",
              "      <td>0</td>\n",
              "      <td>0</td>\n",
              "      <td>0</td>\n",
              "      <td>0</td>\n",
              "      <td>1437760000000000</td>\n",
              "      <td>3117718.131</td>\n",
              "      <td>1437760000000000</td>\n",
              "      <td>1437760000000000</td>\n",
              "      <td>Non-Tor</td>\n",
              "      <td>AUDIO-STREAMING</td>\n",
              "    </tr>\n",
              "  </tbody>\n",
              "</table>\n",
              "<p>5 rows × 83 columns</p>\n",
              "</div>\n",
              "    <div class=\"colab-df-buttons\">\n",
              "\n",
              "  <div class=\"colab-df-container\">\n",
              "    <button class=\"colab-df-convert\" onclick=\"convertToInteractive('df-caafbae8-d871-4fb4-bfeb-5ac0d122f757')\"\n",
              "            title=\"Convert this dataframe to an interactive table.\"\n",
              "            style=\"display:none;\">\n",
              "\n",
              "  <svg xmlns=\"http://www.w3.org/2000/svg\" height=\"24px\" viewBox=\"0 -960 960 960\">\n",
              "    <path d=\"M120-120v-720h720v720H120Zm60-500h600v-160H180v160Zm220 220h160v-160H400v160Zm0 220h160v-160H400v160ZM180-400h160v-160H180v160Zm440 0h160v-160H620v160ZM180-180h160v-160H180v160Zm440 0h160v-160H620v160Z\"/>\n",
              "  </svg>\n",
              "    </button>\n",
              "\n",
              "  <style>\n",
              "    .colab-df-container {\n",
              "      display:flex;\n",
              "      gap: 12px;\n",
              "    }\n",
              "\n",
              "    .colab-df-convert {\n",
              "      background-color: #E8F0FE;\n",
              "      border: none;\n",
              "      border-radius: 50%;\n",
              "      cursor: pointer;\n",
              "      display: none;\n",
              "      fill: #1967D2;\n",
              "      height: 32px;\n",
              "      padding: 0 0 0 0;\n",
              "      width: 32px;\n",
              "    }\n",
              "\n",
              "    .colab-df-convert:hover {\n",
              "      background-color: #E2EBFA;\n",
              "      box-shadow: 0px 1px 2px rgba(60, 64, 67, 0.3), 0px 1px 3px 1px rgba(60, 64, 67, 0.15);\n",
              "      fill: #174EA6;\n",
              "    }\n",
              "\n",
              "    .colab-df-buttons div {\n",
              "      margin-bottom: 4px;\n",
              "    }\n",
              "\n",
              "    [theme=dark] .colab-df-convert {\n",
              "      background-color: #3B4455;\n",
              "      fill: #D2E3FC;\n",
              "    }\n",
              "\n",
              "    [theme=dark] .colab-df-convert:hover {\n",
              "      background-color: #434B5C;\n",
              "      box-shadow: 0px 1px 3px 1px rgba(0, 0, 0, 0.15);\n",
              "      filter: drop-shadow(0px 1px 2px rgba(0, 0, 0, 0.3));\n",
              "      fill: #FFFFFF;\n",
              "    }\n",
              "  </style>\n",
              "\n",
              "    <script>\n",
              "      const buttonEl =\n",
              "        document.querySelector('#df-caafbae8-d871-4fb4-bfeb-5ac0d122f757 button.colab-df-convert');\n",
              "      buttonEl.style.display =\n",
              "        google.colab.kernel.accessAllowed ? 'block' : 'none';\n",
              "\n",
              "      async function convertToInteractive(key) {\n",
              "        const element = document.querySelector('#df-caafbae8-d871-4fb4-bfeb-5ac0d122f757');\n",
              "        const dataTable =\n",
              "          await google.colab.kernel.invokeFunction('convertToInteractive',\n",
              "                                                    [key], {});\n",
              "        if (!dataTable) return;\n",
              "\n",
              "        const docLinkHtml = 'Like what you see? Visit the ' +\n",
              "          '<a target=\"_blank\" href=https://colab.research.google.com/notebooks/data_table.ipynb>data table notebook</a>'\n",
              "          + ' to learn more about interactive tables.';\n",
              "        element.innerHTML = '';\n",
              "        dataTable['output_type'] = 'display_data';\n",
              "        await google.colab.output.renderOutput(dataTable, element);\n",
              "        const docLink = document.createElement('div');\n",
              "        docLink.innerHTML = docLinkHtml;\n",
              "        element.appendChild(docLink);\n",
              "      }\n",
              "    </script>\n",
              "  </div>\n",
              "\n",
              "\n",
              "    <div id=\"df-76a35c30-2524-497f-8dfa-aeb31dbf46f3\">\n",
              "      <button class=\"colab-df-quickchart\" onclick=\"quickchart('df-76a35c30-2524-497f-8dfa-aeb31dbf46f3')\"\n",
              "                title=\"Suggest charts\"\n",
              "                style=\"display:none;\">\n",
              "\n",
              "<svg xmlns=\"http://www.w3.org/2000/svg\" height=\"24px\"viewBox=\"0 0 24 24\"\n",
              "     width=\"24px\">\n",
              "    <g>\n",
              "        <path d=\"M19 3H5c-1.1 0-2 .9-2 2v14c0 1.1.9 2 2 2h14c1.1 0 2-.9 2-2V5c0-1.1-.9-2-2-2zM9 17H7v-7h2v7zm4 0h-2V7h2v10zm4 0h-2v-4h2v4z\"/>\n",
              "    </g>\n",
              "</svg>\n",
              "      </button>\n",
              "\n",
              "<style>\n",
              "  .colab-df-quickchart {\n",
              "      --bg-color: #E8F0FE;\n",
              "      --fill-color: #1967D2;\n",
              "      --hover-bg-color: #E2EBFA;\n",
              "      --hover-fill-color: #174EA6;\n",
              "      --disabled-fill-color: #AAA;\n",
              "      --disabled-bg-color: #DDD;\n",
              "  }\n",
              "\n",
              "  [theme=dark] .colab-df-quickchart {\n",
              "      --bg-color: #3B4455;\n",
              "      --fill-color: #D2E3FC;\n",
              "      --hover-bg-color: #434B5C;\n",
              "      --hover-fill-color: #FFFFFF;\n",
              "      --disabled-bg-color: #3B4455;\n",
              "      --disabled-fill-color: #666;\n",
              "  }\n",
              "\n",
              "  .colab-df-quickchart {\n",
              "    background-color: var(--bg-color);\n",
              "    border: none;\n",
              "    border-radius: 50%;\n",
              "    cursor: pointer;\n",
              "    display: none;\n",
              "    fill: var(--fill-color);\n",
              "    height: 32px;\n",
              "    padding: 0;\n",
              "    width: 32px;\n",
              "  }\n",
              "\n",
              "  .colab-df-quickchart:hover {\n",
              "    background-color: var(--hover-bg-color);\n",
              "    box-shadow: 0 1px 2px rgba(60, 64, 67, 0.3), 0 1px 3px 1px rgba(60, 64, 67, 0.15);\n",
              "    fill: var(--button-hover-fill-color);\n",
              "  }\n",
              "\n",
              "  .colab-df-quickchart-complete:disabled,\n",
              "  .colab-df-quickchart-complete:disabled:hover {\n",
              "    background-color: var(--disabled-bg-color);\n",
              "    fill: var(--disabled-fill-color);\n",
              "    box-shadow: none;\n",
              "  }\n",
              "\n",
              "  .colab-df-spinner {\n",
              "    border: 2px solid var(--fill-color);\n",
              "    border-color: transparent;\n",
              "    border-bottom-color: var(--fill-color);\n",
              "    animation:\n",
              "      spin 1s steps(1) infinite;\n",
              "  }\n",
              "\n",
              "  @keyframes spin {\n",
              "    0% {\n",
              "      border-color: transparent;\n",
              "      border-bottom-color: var(--fill-color);\n",
              "      border-left-color: var(--fill-color);\n",
              "    }\n",
              "    20% {\n",
              "      border-color: transparent;\n",
              "      border-left-color: var(--fill-color);\n",
              "      border-top-color: var(--fill-color);\n",
              "    }\n",
              "    30% {\n",
              "      border-color: transparent;\n",
              "      border-left-color: var(--fill-color);\n",
              "      border-top-color: var(--fill-color);\n",
              "      border-right-color: var(--fill-color);\n",
              "    }\n",
              "    40% {\n",
              "      border-color: transparent;\n",
              "      border-right-color: var(--fill-color);\n",
              "      border-top-color: var(--fill-color);\n",
              "    }\n",
              "    60% {\n",
              "      border-color: transparent;\n",
              "      border-right-color: var(--fill-color);\n",
              "    }\n",
              "    80% {\n",
              "      border-color: transparent;\n",
              "      border-right-color: var(--fill-color);\n",
              "      border-bottom-color: var(--fill-color);\n",
              "    }\n",
              "    90% {\n",
              "      border-color: transparent;\n",
              "      border-bottom-color: var(--fill-color);\n",
              "    }\n",
              "  }\n",
              "</style>\n",
              "\n",
              "      <script>\n",
              "        async function quickchart(key) {\n",
              "          const quickchartButtonEl =\n",
              "            document.querySelector('#' + key + ' button');\n",
              "          quickchartButtonEl.disabled = true;  // To prevent multiple clicks.\n",
              "          quickchartButtonEl.classList.add('colab-df-spinner');\n",
              "          try {\n",
              "            const charts = await google.colab.kernel.invokeFunction(\n",
              "                'suggestCharts', [key], {});\n",
              "          } catch (error) {\n",
              "            console.error('Error during call to suggestCharts:', error);\n",
              "          }\n",
              "          quickchartButtonEl.classList.remove('colab-df-spinner');\n",
              "          quickchartButtonEl.classList.add('colab-df-quickchart-complete');\n",
              "        }\n",
              "        (() => {\n",
              "          let quickchartButtonEl =\n",
              "            document.querySelector('#df-76a35c30-2524-497f-8dfa-aeb31dbf46f3 button');\n",
              "          quickchartButtonEl.style.display =\n",
              "            google.colab.kernel.accessAllowed ? 'block' : 'none';\n",
              "        })();\n",
              "      </script>\n",
              "    </div>\n",
              "\n",
              "    </div>\n",
              "  </div>\n"
            ],
            "application/vnd.google.colaboratory.intrinsic+json": {
              "type": "dataframe",
              "variable_name": "df"
            }
          },
          "metadata": {},
          "execution_count": 14
        }
      ],
      "source": [
        "df = pd.read_csv('https://raw.githubusercontent.com/kdemertzis/EKPA/main/Data/DarkNet.csv')\n",
        "df.head()\n"
      ]
    },
    {
      "cell_type": "markdown",
      "id": "d414a48b",
      "metadata": {
        "id": "d414a48b"
      },
      "source": [
        "## Καθαρισμός και Προεπεξεργασία Δεδομένων"
      ]
    },
    {
      "cell_type": "code",
      "execution_count": null,
      "id": "10b07bff",
      "metadata": {
        "id": "10b07bff"
      },
      "outputs": [],
      "source": [
        "# Αφαίρεση IPs και Label-2\n",
        "df = df.drop(columns=[\"Src_IP\", \"Dst_IP\", \"Label-2\"])\n",
        "\n",
        "# Αντικατάσταση '∞' με NaN και μετατροπή σε float\n",
        "df[\"Flow_Bytes/s\"] = pd.to_numeric(df[\"Flow_Bytes/s\"], errors='coerce')\n",
        "\n",
        "# Αντικατάσταση NaN με 0 (ή θα μπορούσαμε να χρησιμοποιήσουμε μέσο όρο/median)\n",
        "df = df.fillna(0)\n",
        "\n",
        "# Μετατροπή Label σε αριθμητική τιμή: Tor = 1, Non-Tor = 0\n",
        "df[\"Label\"] = df[\"Label-1\"].apply(lambda x: 1 if x.strip() == \"Tor\" else 0)\n",
        "df = df.drop(columns=[\"Label-1\"])\n"
      ]
    },
    {
      "cell_type": "markdown",
      "id": "0be220a8",
      "metadata": {
        "id": "0be220a8"
      },
      "source": [
        "##  Εξερεύνηση Δεδομένων"
      ]
    },
    {
      "cell_type": "code",
      "execution_count": null,
      "id": "6354b58e",
      "metadata": {
        "colab": {
          "base_uri": "https://localhost:8080/",
          "height": 472
        },
        "id": "6354b58e",
        "outputId": "c9ee8f12-191f-4281-d19f-adc1fe16654c"
      },
      "outputs": [
        {
          "output_type": "display_data",
          "data": {
            "text/plain": [
              "<Figure size 640x480 with 1 Axes>"
            ],
            "image/png": "[encoded data removed]"
          },
          "metadata": {}
        }
      ],
      "source": [
        "sns.countplot(data=df, x=\"Label\")\n",
        "plt.xticks([0, 1], [\"Non-Tor\", \"Tor\"])\n",
        "plt.title(\"Κατανομή Ετικετών\")\n",
        "plt.show()\n"
      ]
    },
    {
      "cell_type": "markdown",
      "id": "95a75feb",
      "metadata": {
        "id": "95a75feb"
      },
      "source": [
        "## Επιλογή Χαρακτηριστικών και Διαχωρισμός Συνόλων"
      ]
    },
    {
      "cell_type": "code",
      "execution_count": null,
      "id": "557eb02d",
      "metadata": {
        "id": "557eb02d"
      },
      "outputs": [],
      "source": [
        "# Αντικατάσταση όλων των inf με NaN και έπειτα με 0\n",
        "X = df.drop(columns=[\"Label\"])\n",
        "X = X.replace([np.inf, -np.inf], np.nan)\n",
        "X = X.fillna(0)\n",
        "\n",
        "# Κανονικοποίηση\n",
        "scaler = StandardScaler()\n",
        "X_scaled = scaler.fit_transform(X)\n",
        "\n",
        "# Διαχωρισμός\n",
        "y = df[\"Label\"]\n",
        "X_train, X_test, y_train, y_test = train_test_split(X_scaled, y, test_size=0.2, stratify=y, random_state=42)\n"
      ]
    },
    {
      "cell_type": "markdown",
      "id": "2a2a7295",
      "metadata": {
        "id": "2a2a7295"
      },
      "source": [
        "## Random Forest Classifier"
      ]
    },
    {
      "cell_type": "code",
      "execution_count": null,
      "id": "66609d85",
      "metadata": {
        "colab": {
          "base_uri": "https://localhost:8080/"
        },
        "id": "66609d85",
        "outputId": "9fac2786-f736-4343-f590-9608bbf20fec"
      },
      "outputs": [
        {
          "output_type": "stream",
          "name": "stdout",
          "text": [
            "Classification Report (Random Forest):\n",
            "              precision    recall  f1-score   support\n",
            "\n",
            "           0       1.00      1.00      1.00     13438\n",
            "           1       0.98      0.91      0.94       278\n",
            "\n",
            "    accuracy                           1.00     13716\n",
            "   macro avg       0.99      0.96      0.97     13716\n",
            "weighted avg       1.00      1.00      1.00     13716\n",
            "\n",
            "ROC-AUC: 0.9566112848670313\n"
          ]
        }
      ],
      "source": [
        "rfc = RandomForestClassifier(n_estimators=100, random_state=42)\n",
        "rfc.fit(X_train, y_train)\n",
        "y_pred_rf = rfc.predict(X_test)\n",
        "\n",
        "print(\"Classification Report (Random Forest):\")\n",
        "print(classification_report(y_test, y_pred_rf))\n",
        "print(\"ROC-AUC:\", roc_auc_score(y_test, y_pred_rf))\n"
      ]
    },
    {
      "cell_type": "markdown",
      "id": "5996f1dd",
      "metadata": {
        "id": "5996f1dd"
      },
      "source": [
        "## XGBoost Classifier"
      ]
    },
    {
      "cell_type": "code",
      "execution_count": null,
      "id": "a2917ce1",
      "metadata": {
        "colab": {
          "base_uri": "https://localhost:8080/"
        },
        "id": "a2917ce1",
        "outputId": "06c98e59-1ec4-4350-c52d-8dbaa3d7f52e"
      },
      "outputs": [
        {
          "output_type": "stream",
          "name": "stderr",
          "text": [
            "/usr/local/lib/python3.11/dist-packages/xgboost/core.py:158: UserWarning: [15:24:04] WARNING: /workspace/src/learner.cc:740: \n",
            "Parameters: { \"use_label_encoder\" } are not used.\n",
            "\n",
            "  warnings.warn(smsg, UserWarning)\n"
          ]
        },
        {
          "output_type": "stream",
          "name": "stdout",
          "text": [
            "Classification Report (XGBoost):\n",
            "              precision    recall  f1-score   support\n",
            "\n",
            "           0       1.00      1.00      1.00     13438\n",
            "           1       0.99      0.94      0.96       278\n",
            "\n",
            "    accuracy                           1.00     13716\n",
            "   macro avg       1.00      0.97      0.98     13716\n",
            "weighted avg       1.00      1.00      1.00     13716\n",
            "\n",
            "ROC-AUC: 0.9693500445959649\n"
          ]
        }
      ],
      "source": [
        "xgb = XGBClassifier(use_label_encoder=False, eval_metric='logloss')\n",
        "xgb.fit(X_train, y_train)\n",
        "y_pred_xgb = xgb.predict(X_test)\n",
        "\n",
        "print(\"Classification Report (XGBoost):\")\n",
        "print(classification_report(y_test, y_pred_xgb))\n",
        "print(\"ROC-AUC:\", roc_auc_score(y_test, y_pred_xgb))\n"
      ]
    },
    {
      "cell_type": "markdown",
      "id": "4029419d",
      "metadata": {
        "id": "4029419d"
      },
      "source": [
        "## Νευρωνικό Δίκτυο"
      ]
    },
    {
      "cell_type": "code",
      "execution_count": null,
      "id": "d69245a9",
      "metadata": {
        "colab": {
          "base_uri": "https://localhost:8080/"
        },
        "id": "d69245a9",
        "outputId": "9c7fd046-631e-4d13-dd43-d587c9c70784"
      },
      "outputs": [
        {
          "output_type": "stream",
          "name": "stdout",
          "text": [
            "Epoch 1/10\n",
            "\u001b[1m193/193\u001b[0m \u001b[32m━━━━━━━━━━━━━━━━━━━━\u001b[0m\u001b[37m\u001b[0m \u001b[1m2s\u001b[0m 4ms/step - accuracy: 0.9254 - loss: 0.2224 - val_accuracy: 0.9929 - val_loss: 0.0307\n",
            "Epoch 2/10\n",
            "\u001b[1m193/193\u001b[0m \u001b[32m━━━━━━━━━━━━━━━━━━━━\u001b[0m\u001b[37m\u001b[0m \u001b[1m1s\u001b[0m 4ms/step - accuracy: 0.9933 - loss: 0.0295 - val_accuracy: 0.9933 - val_loss: 0.0281\n",
            "Epoch 3/10\n",
            "\u001b[1m193/193\u001b[0m \u001b[32m━━━━━━━━━━━━━━━━━━━━\u001b[0m\u001b[37m\u001b[0m \u001b[1m1s\u001b[0m 4ms/step - accuracy: 0.9936 - loss: 0.0263 - val_accuracy: 0.9944 - val_loss: 0.0245\n",
            "Epoch 4/10\n",
            "\u001b[1m193/193\u001b[0m \u001b[32m━━━━━━━━━━━━━━━━━━━━\u001b[0m\u001b[37m\u001b[0m \u001b[1m1s\u001b[0m 3ms/step - accuracy: 0.9943 - loss: 0.0224 - val_accuracy: 0.9944 - val_loss: 0.0225\n",
            "Epoch 5/10\n",
            "\u001b[1m193/193\u001b[0m \u001b[32m━━━━━━━━━━━━━━━━━━━━\u001b[0m\u001b[37m\u001b[0m \u001b[1m1s\u001b[0m 3ms/step - accuracy: 0.9942 - loss: 0.0226 - val_accuracy: 0.9944 - val_loss: 0.0218\n",
            "Epoch 6/10\n",
            "\u001b[1m193/193\u001b[0m \u001b[32m━━━━━━━━━━━━━━━━━━━━\u001b[0m\u001b[37m\u001b[0m \u001b[1m1s\u001b[0m 3ms/step - accuracy: 0.9954 - loss: 0.0187 - val_accuracy: 0.9947 - val_loss: 0.0200\n",
            "Epoch 7/10\n",
            "\u001b[1m193/193\u001b[0m \u001b[32m━━━━━━━━━━━━━━━━━━━━\u001b[0m\u001b[37m\u001b[0m \u001b[1m1s\u001b[0m 3ms/step - accuracy: 0.9951 - loss: 0.0189 - val_accuracy: 0.9951 - val_loss: 0.0201\n",
            "Epoch 8/10\n",
            "\u001b[1m193/193\u001b[0m \u001b[32m━━━━━━━━━━━━━━━━━━━━\u001b[0m\u001b[37m\u001b[0m \u001b[1m1s\u001b[0m 3ms/step - accuracy: 0.9957 - loss: 0.0189 - val_accuracy: 0.9956 - val_loss: 0.0176\n",
            "Epoch 9/10\n",
            "\u001b[1m193/193\u001b[0m \u001b[32m━━━━━━━━━━━━━━━━━━━━\u001b[0m\u001b[37m\u001b[0m \u001b[1m1s\u001b[0m 3ms/step - accuracy: 0.9962 - loss: 0.0173 - val_accuracy: 0.9958 - val_loss: 0.0173\n",
            "Epoch 10/10\n",
            "\u001b[1m193/193\u001b[0m \u001b[32m━━━━━━━━━━━━━━━━━━━━\u001b[0m\u001b[37m\u001b[0m \u001b[1m1s\u001b[0m 3ms/step - accuracy: 0.9964 - loss: 0.0158 - val_accuracy: 0.9956 - val_loss: 0.0159\n",
            "\u001b[1m429/429\u001b[0m \u001b[32m━━━━━━━━━━━━━━━━━━━━\u001b[0m\u001b[37m\u001b[0m \u001b[1m1s\u001b[0m 2ms/step\n",
            "Classification Report (Neural Net):\n",
            "              precision    recall  f1-score   support\n",
            "\n",
            "           0       1.00      1.00      1.00     13438\n",
            "           1       0.99      0.85      0.92       278\n",
            "\n",
            "    accuracy                           1.00     13716\n",
            "   macro avg       0.99      0.93      0.96     13716\n",
            "weighted avg       1.00      1.00      1.00     13716\n",
            "\n"
          ]
        }
      ],
      "source": [
        "model = Sequential([\n",
        "    Input(shape=(X_train.shape[1],)),\n",
        "    Dense(64, activation='relu'),\n",
        "    Dense(32, activation='relu'),\n",
        "    Dense(1, activation='sigmoid')\n",
        "])\n",
        "model.compile(optimizer='adam', loss='binary_crossentropy', metrics=['accuracy'])\n",
        "model.fit(X_train, y_train, epochs=10, batch_size=256, validation_split=0.1)\n",
        "\n",
        "y_pred_nn = (model.predict(X_test) > 0.5).astype(\"int32\")\n",
        "print(\"Classification Report (Neural Net):\")\n",
        "print(classification_report(y_test, y_pred_nn))\n"
      ]
    },
    {
      "cell_type": "markdown",
      "id": "451b46ee",
      "metadata": {
        "id": "451b46ee"
      },
      "source": [
        "## Προσομοίωση IPS Απόκρισης"
      ]
    },
    {
      "cell_type": "code",
      "execution_count": null,
      "id": "bd480e1e",
      "metadata": {
        "colab": {
          "base_uri": "https://localhost:8080/"
        },
        "id": "bd480e1e",
        "outputId": "8a304b33-7c15-472e-cd34-73410a2fc9f2"
      },
      "outputs": [
        {
          "output_type": "stream",
          "name": "stdout",
          "text": [
            "✅ Normal traffic from 192.168.1.100 — no action required.\n"
          ]
        }
      ],
      "source": [
        "def ips_response(predicted_label, source_ip=\"192.168.1.100\"):\n",
        "    if predicted_label == 1:\n",
        "        print(f\"🚨 Tor traffic detected from {source_ip} — blocking and alerting admin.\")\n",
        "    else:\n",
        "        print(f\"✅ Normal traffic from {source_ip} — no action required.\")\n",
        "\n",
        "# Παράδειγμα χρήσης:\n",
        "ips_response(y_pred_rf[0])\n"
      ]
    }
  ],
  "metadata": {
    "colab": {
      "provenance": [],
      "include_colab_link": true
    },
    "language_info": {
      "name": "python"
    },
    "kernelspec": {
      "name": "python3",
      "display_name": "Python 3"
    }
  },
  "nbformat": 4,
  "nbformat_minor": 5
}